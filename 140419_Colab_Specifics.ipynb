{
  "nbformat": 4,
  "nbformat_minor": 0,
  "metadata": {
    "colab": {
      "name": "140419_Colab_Specifics.ipynb",
      "version": "0.3.2",
      "provenance": [],
      "collapsed_sections": [],
      "include_colab_link": true
    },
    "kernelspec": {
      "name": "python3",
      "display_name": "Python 3"
    },
    "accelerator": "GPU"
  },
  "cells": [
    {
      "cell_type": "markdown",
      "metadata": {
        "id": "view-in-github",
        "colab_type": "text"
      },
      "source": [
        "<a href=\"https://colab.research.google.com/github/mykras/auto-keras-tutorial/blob/master/140419_Colab_Specifics.ipynb\" target=\"_parent\"><img src=\"https://colab.research.google.com/assets/colab-badge.svg\" alt=\"Open In Colab\"/></a>"
      ]
    },
    {
      "metadata": {
        "id": "PROSPs-f_c87",
        "colab_type": "text"
      },
      "cell_type": "markdown",
      "source": [
        "https://www.youtube.com/watch?time_continue=23&v=xp7DGVGf8_c"
      ]
    },
    {
      "metadata": {
        "id": "abLFaoGx_TfI",
        "colab_type": "code",
        "colab": {
          "base_uri": "https://localhost:8080/",
          "height": 320
        },
        "outputId": "ba128d59-4969-47a8-8898-d02e745dca34"
      },
      "cell_type": "code",
      "source": [
        "print(\"Test pre-installed version\")\n",
        "!pip install numpy"
      ],
      "execution_count": 1,
      "outputs": [
        {
          "output_type": "stream",
          "text": [
            "Test pre-installed version\n",
            "Requirement already satisfied: numpy in /usr/local/lib/python3.6/dist-packages (1.16.2)\n"
          ],
          "name": "stdout"
        }
      ]
    },
    {
      "metadata": {
        "id": "yjLVx0jb_5pe",
        "colab_type": "code",
        "colab": {
          "base_uri": "https://localhost:8080/",
          "height": 253
        },
        "outputId": "f3e07f92-7ee9-4832-8f25-ce77eb986ed7"
      },
      "cell_type": "code",
      "source": [
        "print(\"VM's terminals\")\n",
        "# 1. List the path of the current directory (pwd); \n",
        "# 2. Go to / (cd) and list the content (ls -l)\n",
        "!pwd\n",
        "!cd/\n",
        "!ls -l"
      ],
      "execution_count": 2,
      "outputs": [
        {
          "output_type": "stream",
          "text": [
            "VM's terminals\n",
            "/content\n",
            "/bin/bash: cd/: No such file or directory\n",
            "total 4\n",
            "drwxr-xr-x 1 root root 4096 Apr  4 20:20 sample_data\n"
          ],
          "name": "stdout"
        }
      ]
    },
    {
      "metadata": {
        "id": "zKgim7YGBP89",
        "colab_type": "code",
        "colab": {}
      },
      "cell_type": "code",
      "source": [
        ""
      ],
      "execution_count": 0,
      "outputs": []
    }
  ]
}